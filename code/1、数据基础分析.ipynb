{
 "cells": [
  {
   "cell_type": "markdown",
   "metadata": {},
   "source": [
    "注：本文针对该比赛进行基础的EDA分析, 包括所有比赛都常看的统计值，数据集中单变量的分析, 造成单变量特定分布的背后含义的一些猜测与理解, 希望这篇文章能给很多刚刚步入数据挖掘竞赛的小伙伴们带来些许帮助,大家也可以借此简单的了解该比赛。\n"
   ]
  },
  {
   "cell_type": "markdown",
   "metadata": {},
   "source": [
    "### 文章大纲：\n",
    "\n",
    "1  赛题背景\n",
    "\n",
    "    1.1  竞赛题目\n",
    "    1.2  竞赛数据\n",
    "        1.2.1  用户刷卡数据表（record_2019-01-xx.csv）\n",
    "        1.2.2  路网地图（Metro_roadMap.csv）\n",
    "        1.2.3  提交说明\n",
    "    1.3  评估指标\n",
    "    1.4  注意事项\n",
    "    \n",
    "2  工具包导入&数据读取\n",
    "\n",
    "    2.1  工具包导入\n",
    "    2.2  数据读取\n",
    "3  数据EDA \n",
    "\n",
    "    3.1  基础EDA\n",
    "        3.1.1  数据一览\n",
    "        3.1.2  数据类型&大小\n",
    "        3.1.3  数据缺失值探索\n",
    "    3.2  单变量信息探索\n",
    "        3.2.1  lineID\n",
    "        3.2.2  payType\n",
    "        3.2.3  status\n",
    "        3.2.4  stationID\n",
    "        3.2.5  deviceID\n",
    "        3.2.6  time\n",
    "        3.2.7  userID\n",
    "    3.3  Metro_roadMap数据集分析\n",
    "        3.3.1  中转站&终点站和始发站分析\n",
    "4  小结"
   ]
  },
  {
   "cell_type": "markdown",
   "metadata": {},
   "source": [
    "1  赛题背景\n",
    "\n",
    "1.1  竞赛题目\n",
    "\n",
    "    大赛以“地铁乘客流量预测”为赛题，参赛者可通过分析地铁站的历史刷卡数据，预测站点未来的客流量变化，帮助实现更合理的出行路线选择，规避交通堵塞，提前部署站点安保措施等，最终实现用大数据和人工智能等技术助力未来城市安全出行。\n",
    "    \n",
    "    大赛开放了20190101至20190125共25天地铁刷卡数据记录，共涉及3条线路81个地铁站约7000万条数据作为训练数据（Metro_train.zip），供选手搭建地铁站点乘客流量预测模型。训练数据（Metro_train.zip）解压后可以得到25个csv文件，每天的刷卡数据均单独存在一个csv文件中，以record为前缀。如2019年1月1日的所有线路所有站点的刷卡数据记录存储在record_2019-01-01.csv文件中，以此类推。同时大赛提供了路网地图，即各地铁站之间的连接关系表，存储在文件Metro_roadMap.csv文件中供选手使用。\n",
    "    \n",
    "    测试阶段，大赛将提供某天所有线路所有站点的刷卡数据记录，选手需预测未来一天00时至24时以10分钟为单位各时段各站点的进站和出站人次。\n",
    "    预选赛阶段，测试集A集上，大赛将提供2019年1月28日的刷卡数据（testA_record_2019-01-28.csv），选手需对2019年1月29日全天各地铁站以10分钟为单位的人流量进行预测，淘汰赛和决赛将分别更新一批新的数据测试集B集和测试集C集。"
   ]
  },
  {
   "cell_type": "markdown",
   "metadata": {},
   "source": [
    "### 2.1  工具包导入"
   ]
  },
  {
   "cell_type": "code",
   "execution_count": 26,
   "metadata": {},
   "outputs": [],
   "source": [
    "import pandas as pd\n",
    "import numpy as np\n",
    "import seaborn as sns \n",
    "%matplotlib inline"
   ]
  },
  {
   "cell_type": "markdown",
   "metadata": {},
   "source": [
    "### 2.2  数据读取"
   ]
  },
  {
   "cell_type": "code",
   "execution_count": 6,
   "metadata": {},
   "outputs": [],
   "source": [
    "path = \"../input\"\n",
    "train = pd.read_csv(path+\"/Metro_testA/testA_record_2019-01-28.csv\")\n",
    "test_A_submit = pd.read_csv(path+\"/Metro_testA/testA_submit_2019-01-29.csv\")"
   ]
  },
  {
   "cell_type": "markdown",
   "metadata": {},
   "source": [
    "## 3  数据EDA\n",
    "### 3.1  基础EDA\n",
    "#### 3.1.1  数据一览"
   ]
  },
  {
   "cell_type": "code",
   "execution_count": 7,
   "metadata": {},
   "outputs": [
    {
     "data": {
      "text/html": [
       "<div>\n",
       "<style scoped>\n",
       "    .dataframe tbody tr th:only-of-type {\n",
       "        vertical-align: middle;\n",
       "    }\n",
       "\n",
       "    .dataframe tbody tr th {\n",
       "        vertical-align: top;\n",
       "    }\n",
       "\n",
       "    .dataframe thead th {\n",
       "        text-align: right;\n",
       "    }\n",
       "</style>\n",
       "<table border=\"1\" class=\"dataframe\">\n",
       "  <thead>\n",
       "    <tr style=\"text-align: right;\">\n",
       "      <th></th>\n",
       "      <th>time</th>\n",
       "      <th>lineID</th>\n",
       "      <th>stationID</th>\n",
       "      <th>deviceID</th>\n",
       "      <th>status</th>\n",
       "      <th>userID</th>\n",
       "      <th>payType</th>\n",
       "    </tr>\n",
       "  </thead>\n",
       "  <tbody>\n",
       "    <tr>\n",
       "      <th>0</th>\n",
       "      <td>2019-01-28 00:00:04</td>\n",
       "      <td>B</td>\n",
       "      <td>33</td>\n",
       "      <td>1587</td>\n",
       "      <td>0</td>\n",
       "      <td>Aad6ad59dfdd470bfdfdb0d2959db068b</td>\n",
       "      <td>0</td>\n",
       "    </tr>\n",
       "    <tr>\n",
       "      <th>1</th>\n",
       "      <td>2019-01-28 00:00:04</td>\n",
       "      <td>C</td>\n",
       "      <td>63</td>\n",
       "      <td>2933</td>\n",
       "      <td>0</td>\n",
       "      <td>Bab97d7b32891b8cb5451e80b73b23d70</td>\n",
       "      <td>1</td>\n",
       "    </tr>\n",
       "    <tr>\n",
       "      <th>2</th>\n",
       "      <td>2019-01-28 00:00:06</td>\n",
       "      <td>C</td>\n",
       "      <td>63</td>\n",
       "      <td>2934</td>\n",
       "      <td>0</td>\n",
       "      <td>Dda829d9f38d0a28f1e4ae84a34e846dc</td>\n",
       "      <td>3</td>\n",
       "    </tr>\n",
       "    <tr>\n",
       "      <th>3</th>\n",
       "      <td>2019-01-28 00:00:06</td>\n",
       "      <td>C</td>\n",
       "      <td>39</td>\n",
       "      <td>1839</td>\n",
       "      <td>0</td>\n",
       "      <td>Cc397069031ab762d75d613291cd68cda</td>\n",
       "      <td>2</td>\n",
       "    </tr>\n",
       "    <tr>\n",
       "      <th>4</th>\n",
       "      <td>2019-01-28 00:00:07</td>\n",
       "      <td>B</td>\n",
       "      <td>33</td>\n",
       "      <td>1588</td>\n",
       "      <td>0</td>\n",
       "      <td>Ba83c695d27b4d376bfde3f755e4b677f</td>\n",
       "      <td>1</td>\n",
       "    </tr>\n",
       "  </tbody>\n",
       "</table>\n",
       "</div>"
      ],
      "text/plain": [
       "                  time lineID  stationID  deviceID  status  \\\n",
       "0  2019-01-28 00:00:04      B         33      1587       0   \n",
       "1  2019-01-28 00:00:04      C         63      2933       0   \n",
       "2  2019-01-28 00:00:06      C         63      2934       0   \n",
       "3  2019-01-28 00:00:06      C         39      1839       0   \n",
       "4  2019-01-28 00:00:07      B         33      1588       0   \n",
       "\n",
       "                              userID  payType  \n",
       "0  Aad6ad59dfdd470bfdfdb0d2959db068b        0  \n",
       "1  Bab97d7b32891b8cb5451e80b73b23d70        1  \n",
       "2  Dda829d9f38d0a28f1e4ae84a34e846dc        3  \n",
       "3  Cc397069031ab762d75d613291cd68cda        2  \n",
       "4  Ba83c695d27b4d376bfde3f755e4b677f        1  "
      ]
     },
     "execution_count": 7,
     "metadata": {},
     "output_type": "execute_result"
    }
   ],
   "source": [
    "train.head()"
   ]
  },
  {
   "cell_type": "markdown",
   "metadata": {},
   "source": [
    "### 3.1.2  数据类型&大小\n",
    "* 每天的记录包含7种信息,4个int64类型的数据,3个object类型的数据;\n",
    "* 每个数据集大概有128.4M左右的大小\n",
    "* 数据集中一共有2404894个样本\n"
   ]
  },
  {
   "cell_type": "code",
   "execution_count": 8,
   "metadata": {},
   "outputs": [
    {
     "data": {
      "text/plain": [
       "(2404894, 7)"
      ]
     },
     "execution_count": 8,
     "metadata": {},
     "output_type": "execute_result"
    }
   ],
   "source": [
    "train.shape"
   ]
  },
  {
   "cell_type": "code",
   "execution_count": 9,
   "metadata": {},
   "outputs": [
    {
     "name": "stdout",
     "output_type": "stream",
     "text": [
      "<class 'pandas.core.frame.DataFrame'>\n",
      "RangeIndex: 2404894 entries, 0 to 2404893\n",
      "Data columns (total 7 columns):\n",
      "time         object\n",
      "lineID       object\n",
      "stationID    int64\n",
      "deviceID     int64\n",
      "status       int64\n",
      "userID       object\n",
      "payType      int64\n",
      "dtypes: int64(4), object(3)\n",
      "memory usage: 128.4+ MB\n"
     ]
    }
   ],
   "source": [
    "train.info()"
   ]
  },
  {
   "cell_type": "markdown",
   "metadata": {},
   "source": [
    "### 3.1.3  数据缺失值探索"
   ]
  },
  {
   "cell_type": "code",
   "execution_count": 11,
   "metadata": {},
   "outputs": [
    {
     "data": {
      "text/plain": [
       "time         0\n",
       "lineID       0\n",
       "stationID    0\n",
       "deviceID     0\n",
       "status       0\n",
       "userID       0\n",
       "payType      0\n",
       "dtype: int64"
      ]
     },
     "execution_count": 11,
     "metadata": {},
     "output_type": "execute_result"
    }
   ],
   "source": [
    "train.isnull().sum()"
   ]
  },
  {
   "cell_type": "markdown",
   "metadata": {},
   "source": [
    "## 3.2  单变量信息探索\n",
    "### 3.2.1  lineID\n",
    "\n",
    "* 一共有3条线\n",
    "* B线路乘坐的顾客数最多,A线路乘坐的人数最少"
   ]
  },
  {
   "cell_type": "code",
   "execution_count": 12,
   "metadata": {},
   "outputs": [
    {
     "data": {
      "text/plain": [
       "3"
      ]
     },
     "execution_count": 12,
     "metadata": {},
     "output_type": "execute_result"
    }
   ],
   "source": [
    "train[\"lineID\"].nunique()"
   ]
  },
  {
   "cell_type": "code",
   "execution_count": 13,
   "metadata": {},
   "outputs": [
    {
     "data": {
      "text/plain": [
       "B    1359943\n",
       "C     787228\n",
       "A     257723\n",
       "Name: lineID, dtype: int64"
      ]
     },
     "execution_count": 13,
     "metadata": {},
     "output_type": "execute_result"
    }
   ],
   "source": [
    "train[\"lineID\"].value_counts()"
   ]
  },
  {
   "cell_type": "markdown",
   "metadata": {},
   "source": [
    "### 3.2.2  payType\n",
    "\n",
    "* 一共有4种不同的支付方式\n",
    "* 类型为1的支付人数最多,3是变动的人数(也就是外地游客去购买的地铁卡),从下面来看还是当地人多一些"
   ]
  },
  {
   "cell_type": "code",
   "execution_count": 14,
   "metadata": {},
   "outputs": [
    {
     "data": {
      "text/plain": [
       "4"
      ]
     },
     "execution_count": 14,
     "metadata": {},
     "output_type": "execute_result"
    }
   ],
   "source": [
    "train[\"payType\"].nunique()"
   ]
  },
  {
   "cell_type": "code",
   "execution_count": 15,
   "metadata": {},
   "outputs": [
    {
     "data": {
      "text/plain": [
       "1    994885\n",
       "2    747733\n",
       "0    346847\n",
       "3    315429\n",
       "Name: payType, dtype: int64"
      ]
     },
     "execution_count": 15,
     "metadata": {},
     "output_type": "execute_result"
    }
   ],
   "source": [
    "train[\"payType\"].value_counts()"
   ]
  },
  {
   "cell_type": "markdown",
   "metadata": {},
   "source": [
    "### 3.2.3  status\n",
    "\n",
    "* status一共有两种情况,0(出站)和1(进站)\n",
    "* 0要大于1,也就是说出站人数要大于进站的人数,比较符合常识,有些工作人员可能第二天才下班,所以需要注意这些工作人员的下班时间,也就是第二天凌晨的时间段等.这部分的预测可以单独处理."
   ]
  },
  {
   "cell_type": "code",
   "execution_count": 16,
   "metadata": {},
   "outputs": [
    {
     "data": {
      "text/plain": [
       "0    1202647\n",
       "1    1202247\n",
       "Name: status, dtype: int64"
      ]
     },
     "execution_count": 16,
     "metadata": {},
     "output_type": "execute_result"
    }
   ],
   "source": [
    "train[\"status\"].value_counts()"
   ]
  },
  {
   "cell_type": "markdown",
   "metadata": {},
   "source": [
    "### 3.2.4  stationID\n",
    "\n",
    "* stationID一共有80个不同的值\n",
    "* stationID为15,9,7这些站点的人数比较多,可能是一些大型商业地点,例如南京的新街口等.\n",
    "* stationID对应的人数不存在奇异的情况,例如0之类的,最少的也有7100多号人的流动。"
   ]
  },
  {
   "cell_type": "code",
   "execution_count": 18,
   "metadata": {},
   "outputs": [
    {
     "data": {
      "text/plain": [
       "80"
      ]
     },
     "execution_count": 18,
     "metadata": {},
     "output_type": "execute_result"
    }
   ],
   "source": [
    "train[\"stationID\"].nunique()"
   ]
  },
  {
   "cell_type": "code",
   "execution_count": 19,
   "metadata": {
    "scrolled": true
   },
   "outputs": [
    {
     "data": {
      "text/plain": [
       "15    187465\n",
       "9     106803\n",
       "7      87161\n",
       "4      72654\n",
       "10     60455\n",
       "11     55618\n",
       "12     53390\n",
       "8      51882\n",
       "20     50828\n",
       "33     46850\n",
       "16     45592\n",
       "5      45412\n",
       "13     43792\n",
       "14     42825\n",
       "22     40963\n",
       "56     40786\n",
       "53     38822\n",
       "46     37951\n",
       "2      37336\n",
       "47     37134\n",
       "52     33926\n",
       "55     33917\n",
       "78     33585\n",
       "76     33155\n",
       "57     32834\n",
       "49     32566\n",
       "18     32194\n",
       "77     30812\n",
       "59     29563\n",
       "58     28293\n",
       "       ...  \n",
       "60     19209\n",
       "70     19146\n",
       "19     18909\n",
       "41     18792\n",
       "65     18531\n",
       "69     18480\n",
       "44     18102\n",
       "27     17974\n",
       "23     17739\n",
       "29     17128\n",
       "34     16967\n",
       "17     15054\n",
       "32     15001\n",
       "30     14418\n",
       "71     13647\n",
       "36     13502\n",
       "67     13357\n",
       "66     13306\n",
       "1      12998\n",
       "40     12565\n",
       "21     11838\n",
       "64     10681\n",
       "79      9985\n",
       "68      9958\n",
       "80      9635\n",
       "35      9083\n",
       "72      8600\n",
       "31      8567\n",
       "28      7363\n",
       "74      6852\n",
       "Name: stationID, Length: 80, dtype: int64"
      ]
     },
     "execution_count": 19,
     "metadata": {},
     "output_type": "execute_result"
    }
   ],
   "source": [
    "train[\"stationID\"].value_counts()"
   ]
  },
  {
   "cell_type": "markdown",
   "metadata": {},
   "source": [
    "### 3.2.6  time\n",
    "\n",
    "* 我们先将时间转化为10分钟为单位\n",
    "* 我们发现在凌晨的时候还零零散散的有人,可能是之前忘记出站的和工作人员的流动情况"
   ]
  },
  {
   "cell_type": "code",
   "execution_count": 20,
   "metadata": {
    "scrolled": true
   },
   "outputs": [
    {
     "data": {
      "text/plain": [
       "0        215\n",
       "1         88\n",
       "2         66\n",
       "3         22\n",
       "4         19\n",
       "5         18\n",
       "6         22\n",
       "7          7\n",
       "8         18\n",
       "9         27\n",
       "10        12\n",
       "11        10\n",
       "12        14\n",
       "13        14\n",
       "14        19\n",
       "15        10\n",
       "16         9\n",
       "17        10\n",
       "18         9\n",
       "19         6\n",
       "21         3\n",
       "22         2\n",
       "23         2\n",
       "24         7\n",
       "25        24\n",
       "26        14\n",
       "27        43\n",
       "28        27\n",
       "29        15\n",
       "30         5\n",
       "       ...  \n",
       "114    24163\n",
       "115    23017\n",
       "116    21673\n",
       "117    19676\n",
       "118    19404\n",
       "119    18427\n",
       "120    18588\n",
       "121    18617\n",
       "122    18262\n",
       "123    18113\n",
       "124    18723\n",
       "125    18309\n",
       "126    17905\n",
       "127    17591\n",
       "128    16597\n",
       "129    15161\n",
       "130    14665\n",
       "131    13374\n",
       "132    13074\n",
       "133    12259\n",
       "134    10594\n",
       "135     9482\n",
       "136     7767\n",
       "137     5979\n",
       "138     4489\n",
       "139     3251\n",
       "140     2164\n",
       "141     1355\n",
       "142      776\n",
       "143      416\n",
       "Name: time_10minutes, Length: 143, dtype: int64"
      ]
     },
     "execution_count": 20,
     "metadata": {},
     "output_type": "execute_result"
    }
   ],
   "source": [
    "train[\"time\"] = pd.to_datetime(train[\"time\"])\n",
    "train[\"hour\"] = train[\"time\"].dt.hour\n",
    "train[\"time_10minutes\"] = train[\"time\"].dt.hour * 6 + train[\"time\"].dt.minute // 10\n",
    "train[\"time_10minutes\"].value_counts().sort_index()"
   ]
  },
  {
   "cell_type": "markdown",
   "metadata": {},
   "source": [
    "* 我们发现早上7点,8点,9点的人数是最多的,因为这个时候很多人去上班了,所以算上班高峰期间.\n",
    "* 下午6点的时候也有一波高峰,很明显,这个时候大家都下班了,所以人数会有突变."
   ]
  },
  {
   "cell_type": "code",
   "execution_count": 21,
   "metadata": {
    "scrolled": true
   },
   "outputs": [
    {
     "data": {
      "text/plain": [
       "0        428\n",
       "1         96\n",
       "2         76\n",
       "3         22\n",
       "4        130\n",
       "5       2865\n",
       "6      40325\n",
       "7     178077\n",
       "8     314849\n",
       "9     162814\n",
       "10    123313\n",
       "11    122542\n",
       "12    122520\n",
       "13    123684\n",
       "14    122201\n",
       "15    123799\n",
       "16    132524\n",
       "17    217642\n",
       "18    213116\n",
       "19    126360\n",
       "20    110612\n",
       "21     95293\n",
       "22     59155\n",
       "23     12451\n",
       "Name: hour, dtype: int64"
      ]
     },
     "execution_count": 21,
     "metadata": {},
     "output_type": "execute_result"
    }
   ],
   "source": [
    "train[\"hour\"].value_counts().sort_index()"
   ]
  },
  {
   "cell_type": "code",
   "execution_count": 27,
   "metadata": {},
   "outputs": [
    {
     "data": {
      "text/plain": [
       "<matplotlib.axes._subplots.AxesSubplot at 0xd22eb70>"
      ]
     },
     "execution_count": 27,
     "metadata": {},
     "output_type": "execute_result"
    },
    {
     "data": {
      "image/png": "[encoded data removed]",
      "text/plain": [
       "<Figure size 432x288 with 1 Axes>"
      ]
     },
     "metadata": {},
     "output_type": "display_data"
    }
   ],
   "source": [
    "train[\"hour\"].value_counts().sort_index().plot()"
   ]
  },
  {
   "cell_type": "markdown",
   "metadata": {},
   "source": [
    "### 3.2.7  userID\n",
    "\n",
    "* 有些userID很奇怪,有着非常高的出入频率,而有些userID却只有一次出入的情况,那些拥有很高的频率的应该是工作人员之类的.\n",
    "* 还有很多userID的出现频率是1,"
   ]
  },
  {
   "cell_type": "code",
   "execution_count": 28,
   "metadata": {
    "scrolled": true
   },
   "outputs": [
    {
     "data": {
      "text/plain": [
       "Dabe559cc687e70bd3487a1f12d6ee675    94\n",
       "Da4534723f5a23b6a139496ac3676f553    72\n",
       "D3532b0e8be5944efb9ba7b5dd7b2f2d6    60\n",
       "D0703ec413b2dca1853f614dd6f96a08d    49\n",
       "D215609a4b7c3ee82622a16b659ebbcd4    49\n",
       "De3d8cd01c5b6b77062f18f2a3e35c362    49\n",
       "D0aa66e54d67ba36f0470cce21c6a684f    48\n",
       "D4ab72ff99052a1fc3ed0e3d5f47d3e5c    46\n",
       "D46ff0cea4eef05da63cb7e2774dcb305    45\n",
       "D35ed8633a8eb7169670289bc0a3a0154    43\n",
       "D8af5372b98015beb66f8d1b5ed424a6b    38\n",
       "D334ea26c5d77370f2b75d9a21ee237a5    36\n",
       "Db46c6188aeb943c1e65eb8420e6a34e3    36\n",
       "Dd279ac77ad98bc798d8d93b46acb4b81    35\n",
       "D61ddc125cb0e0ecce4fa168b574e76bf    35\n",
       "D2813683cbb5e7f1f3aea539f22d11cc8    34\n",
       "D1a00421ffe7fb3f56a3825f5f73b70dd    34\n",
       "D2195895d5188a874f5a98761fc73e1c7    34\n",
       "Dc32fb1cd29105cc43c5d1f8a69145f26    34\n",
       "C7ad902efad907997fdea03f2040c31ee    33\n",
       "Daf0b953761c63ef8ed2633541999089d    32\n",
       "D8263e149712315a597a977426f22be81    32\n",
       "Dbd701c1cee3b60b8d974a24e6c87cc8d    32\n",
       "Df706464584f801208ccb45fa36dfbfdc    32\n",
       "D95c55470b85cfd1b9cb6243db5e21621    32\n",
       "D050e69be5125c3127ccc390627014b43    31\n",
       "Dd2ce9f3ffe61606ad929ba5eeb7cd2fc    31\n",
       "D8b499b2113431813352edc95e7a20d77    30\n",
       "D9552f2d10b14a72dfa291561355bb890    30\n",
       "D3d8bebb457be3117cd7a7ca967595735    30\n",
       "                                     ..\n",
       "B367799660c1633b33562fcfd06840f26     1\n",
       "D0dc134bb5bd04d6c7041d10a96516cf2     1\n",
       "D978983a9ab7e07ce588c78c9dbc1270b     1\n",
       "De43ea838dfb3cca8d9f3c09a4e398c9b     1\n",
       "Dd3f99dd480132025b31469a4c3d4e32a     1\n",
       "Dc4bf5a97b6aee387d0a03bfd01675b55     1\n",
       "D1df85cf7128e48737dc8acaff98ee49d     1\n",
       "Ded1e2982d6c3b7dc4c1cea1570298d72     1\n",
       "D01be3be1129fea1cd1dae2e6422e15af     1\n",
       "Bbfe778710485df2b40d01dae0c9668b1     1\n",
       "Dab489b62ae3eb41de592a4687e6dc2e2     1\n",
       "Dea2d60bee4aa3bf1d93a266116ca4645     1\n",
       "D34f313f61198485a105daa787793669f     1\n",
       "D965b0b894ac7c346110a0c53f2df9351     1\n",
       "Dbfecca64c662e9b14c4b4b543cd1e557     1\n",
       "D0a5b993456d13c9236b6ae026ffde804     1\n",
       "Df612f71e83d09b98368630c475e80e6e     1\n",
       "Dc1fb8e6a48607cef9293e14701356ce3     1\n",
       "D24653007275787db434b6e6928b73be7     1\n",
       "Daddc420a38999fdb54f24b3fd18fb9e8     1\n",
       "D47a75da0a902dc89cdbf609f2b859306     1\n",
       "D44be940a2be3aa150d5d9cd85d4ac0d5     1\n",
       "D689bef7bbc5566fb76fa7ca3f3effd45     1\n",
       "Dec3c54b970715a9b61dac69528900497     1\n",
       "Dae0dcd19ecacccabd02c6af0ea348310     1\n",
       "C4da1453bac09cf0cf92255f2d4e9286d     1\n",
       "D003ec0f81cbf15e678d2bdf5b43f732e     1\n",
       "D281f3a95e9de3779f0cab218e7adcbc9     1\n",
       "Da9034c62165e92a98f25117109f1d0f8     1\n",
       "C1290ab025378158758f05ca4507de119     1\n",
       "Name: userID, Length: 770876, dtype: int64"
      ]
     },
     "execution_count": 28,
     "metadata": {},
     "output_type": "execute_result"
    }
   ],
   "source": [
    "train[\"userID\"].value_counts()"
   ]
  },
  {
   "cell_type": "code",
   "execution_count": 29,
   "metadata": {},
   "outputs": [
    {
     "data": {
      "text/plain": [
       "6269"
      ]
     },
     "execution_count": 29,
     "metadata": {},
     "output_type": "execute_result"
    }
   ],
   "source": [
    "np.sum(train[\"userID\"].value_counts()==1)"
   ]
  },
  {
   "cell_type": "markdown",
   "metadata": {},
   "source": [
    "### 3.3  Metro_roadMap数据集分析\n",
    "\n",
    "* 因为官方额外给出了地铁地图的信息,所以我们对此进行简单的分析"
   ]
  },
  {
   "cell_type": "code",
   "execution_count": 31,
   "metadata": {},
   "outputs": [],
   "source": [
    "Metro_roadMap = pd.read_csv(path+\"/Metro_roadMap.csv\")"
   ]
  },
  {
   "cell_type": "code",
   "execution_count": 32,
   "metadata": {},
   "outputs": [
    {
     "data": {
      "text/html": [
       "<div>\n",
       "<style scoped>\n",
       "    .dataframe tbody tr th:only-of-type {\n",
       "        vertical-align: middle;\n",
       "    }\n",
       "\n",
       "    .dataframe tbody tr th {\n",
       "        vertical-align: top;\n",
       "    }\n",
       "\n",
       "    .dataframe thead th {\n",
       "        text-align: right;\n",
       "    }\n",
       "</style>\n",
       "<table border=\"1\" class=\"dataframe\">\n",
       "  <thead>\n",
       "    <tr style=\"text-align: right;\">\n",
       "      <th></th>\n",
       "      <th>Unnamed: 0</th>\n",
       "      <th>0</th>\n",
       "      <th>1</th>\n",
       "      <th>2</th>\n",
       "      <th>3</th>\n",
       "      <th>4</th>\n",
       "      <th>5</th>\n",
       "      <th>6</th>\n",
       "      <th>7</th>\n",
       "      <th>8</th>\n",
       "      <th>...</th>\n",
       "      <th>71</th>\n",
       "      <th>72</th>\n",
       "      <th>73</th>\n",
       "      <th>74</th>\n",
       "      <th>75</th>\n",
       "      <th>76</th>\n",
       "      <th>77</th>\n",
       "      <th>78</th>\n",
       "      <th>79</th>\n",
       "      <th>80</th>\n",
       "    </tr>\n",
       "  </thead>\n",
       "  <tbody>\n",
       "    <tr>\n",
       "      <th>0</th>\n",
       "      <td>0</td>\n",
       "      <td>0</td>\n",
       "      <td>1</td>\n",
       "      <td>0</td>\n",
       "      <td>0</td>\n",
       "      <td>0</td>\n",
       "      <td>0</td>\n",
       "      <td>0</td>\n",
       "      <td>0</td>\n",
       "      <td>0</td>\n",
       "      <td>...</td>\n",
       "      <td>0</td>\n",
       "      <td>0</td>\n",
       "      <td>0</td>\n",
       "      <td>0</td>\n",
       "      <td>0</td>\n",
       "      <td>0</td>\n",
       "      <td>0</td>\n",
       "      <td>0</td>\n",
       "      <td>0</td>\n",
       "      <td>0</td>\n",
       "    </tr>\n",
       "    <tr>\n",
       "      <th>1</th>\n",
       "      <td>1</td>\n",
       "      <td>1</td>\n",
       "      <td>0</td>\n",
       "      <td>1</td>\n",
       "      <td>0</td>\n",
       "      <td>0</td>\n",
       "      <td>0</td>\n",
       "      <td>0</td>\n",
       "      <td>0</td>\n",
       "      <td>0</td>\n",
       "      <td>...</td>\n",
       "      <td>0</td>\n",
       "      <td>0</td>\n",
       "      <td>0</td>\n",
       "      <td>0</td>\n",
       "      <td>0</td>\n",
       "      <td>0</td>\n",
       "      <td>0</td>\n",
       "      <td>0</td>\n",
       "      <td>0</td>\n",
       "      <td>0</td>\n",
       "    </tr>\n",
       "    <tr>\n",
       "      <th>2</th>\n",
       "      <td>2</td>\n",
       "      <td>0</td>\n",
       "      <td>1</td>\n",
       "      <td>0</td>\n",
       "      <td>1</td>\n",
       "      <td>0</td>\n",
       "      <td>0</td>\n",
       "      <td>0</td>\n",
       "      <td>0</td>\n",
       "      <td>0</td>\n",
       "      <td>...</td>\n",
       "      <td>0</td>\n",
       "      <td>0</td>\n",
       "      <td>0</td>\n",
       "      <td>0</td>\n",
       "      <td>0</td>\n",
       "      <td>0</td>\n",
       "      <td>0</td>\n",
       "      <td>0</td>\n",
       "      <td>0</td>\n",
       "      <td>0</td>\n",
       "    </tr>\n",
       "    <tr>\n",
       "      <th>3</th>\n",
       "      <td>3</td>\n",
       "      <td>0</td>\n",
       "      <td>0</td>\n",
       "      <td>1</td>\n",
       "      <td>0</td>\n",
       "      <td>1</td>\n",
       "      <td>0</td>\n",
       "      <td>0</td>\n",
       "      <td>0</td>\n",
       "      <td>0</td>\n",
       "      <td>...</td>\n",
       "      <td>0</td>\n",
       "      <td>0</td>\n",
       "      <td>0</td>\n",
       "      <td>0</td>\n",
       "      <td>0</td>\n",
       "      <td>0</td>\n",
       "      <td>0</td>\n",
       "      <td>0</td>\n",
       "      <td>0</td>\n",
       "      <td>0</td>\n",
       "    </tr>\n",
       "    <tr>\n",
       "      <th>4</th>\n",
       "      <td>4</td>\n",
       "      <td>0</td>\n",
       "      <td>0</td>\n",
       "      <td>0</td>\n",
       "      <td>1</td>\n",
       "      <td>0</td>\n",
       "      <td>1</td>\n",
       "      <td>0</td>\n",
       "      <td>0</td>\n",
       "      <td>0</td>\n",
       "      <td>...</td>\n",
       "      <td>0</td>\n",
       "      <td>0</td>\n",
       "      <td>0</td>\n",
       "      <td>0</td>\n",
       "      <td>0</td>\n",
       "      <td>0</td>\n",
       "      <td>0</td>\n",
       "      <td>0</td>\n",
       "      <td>0</td>\n",
       "      <td>0</td>\n",
       "    </tr>\n",
       "  </tbody>\n",
       "</table>\n",
       "<p>5 rows × 82 columns</p>\n",
       "</div>"
      ],
      "text/plain": [
       "   Unnamed: 0  0  1  2  3  4  5  6  7  8 ...  71  72  73  74  75  76  77  78  \\\n",
       "0           0  0  1  0  0  0  0  0  0  0 ...   0   0   0   0   0   0   0   0   \n",
       "1           1  1  0  1  0  0  0  0  0  0 ...   0   0   0   0   0   0   0   0   \n",
       "2           2  0  1  0  1  0  0  0  0  0 ...   0   0   0   0   0   0   0   0   \n",
       "3           3  0  0  1  0  1  0  0  0  0 ...   0   0   0   0   0   0   0   0   \n",
       "4           4  0  0  0  1  0  1  0  0  0 ...   0   0   0   0   0   0   0   0   \n",
       "\n",
       "   79  80  \n",
       "0   0   0  \n",
       "1   0   0  \n",
       "2   0   0  \n",
       "3   0   0  \n",
       "4   0   0  \n",
       "\n",
       "[5 rows x 82 columns]"
      ]
     },
     "execution_count": 32,
     "metadata": {},
     "output_type": "execute_result"
    }
   ],
   "source": [
    "Metro_roadMap.head()"
   ]
  },
  {
   "cell_type": "markdown",
   "metadata": {},
   "source": [
    "### 3.3.1  中转站&终点站和始发站分析\n",
    "\n",
    "* 我们通过计算每个站点的连接度的读书,可以发现10,5,51这几站有很多点,这些点应该就是几个地铁线的换乘口\n",
    "* 0,33,45,66,67,27这六个站应该就是始发站或者终点站,因为这些站只有一个连接口"
   ]
  },
  {
   "cell_type": "code",
   "execution_count": 35,
   "metadata": {
    "scrolled": true
   },
   "outputs": [
    {
     "data": {
      "text/plain": [
       "0     1\n",
       "34    1\n",
       "33    1\n",
       "66    1\n",
       "67    1\n",
       "27    1\n",
       "57    2\n",
       "56    2\n",
       "55    2\n",
       "54    2\n",
       "53    2\n",
       "49    2\n",
       "48    2\n",
       "47    2\n",
       "45    2\n",
       "44    2\n",
       "43    2\n",
       "42    2\n",
       "58    2\n",
       "59    2\n",
       "60    2\n",
       "61    2\n",
       "78    2\n",
       "77    2\n",
       "76    2\n",
       "75    2\n",
       "74    2\n",
       "73    2\n",
       "72    2\n",
       "71    2\n",
       "     ..\n",
       "4     2\n",
       "3     2\n",
       "2     2\n",
       "1     2\n",
       "8     2\n",
       "22    2\n",
       "19    2\n",
       "24    2\n",
       "37    2\n",
       "36    2\n",
       "35    2\n",
       "32    2\n",
       "31    2\n",
       "30    2\n",
       "23    2\n",
       "29    2\n",
       "80    2\n",
       "26    2\n",
       "25    2\n",
       "28    2\n",
       "11    3\n",
       "50    3\n",
       "9     3\n",
       "15    3\n",
       "52    3\n",
       "20    3\n",
       "46    4\n",
       "51    4\n",
       "5     4\n",
       "10    4\n",
       "Length: 81, dtype: int64"
      ]
     },
     "execution_count": 35,
     "metadata": {},
     "output_type": "execute_result"
    }
   ],
   "source": [
    "lines = [str(i) for i in range(81)]\n",
    "Metro_roadMap[lines].sum(axis=1).sort_values()"
   ]
  },
  {
   "cell_type": "code",
   "execution_count": null,
   "metadata": {},
   "outputs": [],
   "source": []
  },
  {
   "cell_type": "code",
   "execution_count": null,
   "metadata": {},
   "outputs": [],
   "source": []
  },
  {
   "cell_type": "code",
   "execution_count": null,
   "metadata": {},
   "outputs": [],
   "source": []
  },
  {
   "cell_type": "code",
   "execution_count": null,
   "metadata": {},
   "outputs": [],
   "source": []
  }
 ],
 "metadata": {
  "kernelspec": {
   "display_name": "Python 3",
   "language": "python",
   "name": "python3"
  },
  "language_info": {
   "codemirror_mode": {
    "name": "ipython",
    "version": 3
   },
   "file_extension": ".py",
   "mimetype": "text/x-python",
   "name": "python",
   "nbconvert_exporter": "python",
   "pygments_lexer": "ipython3",
   "version": "3.7.3"
  }
 },
 "nbformat": 4,
 "nbformat_minor": 2
}
